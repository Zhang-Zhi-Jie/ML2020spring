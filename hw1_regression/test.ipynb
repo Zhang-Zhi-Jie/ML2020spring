{
 "nbformat": 4,
 "nbformat_minor": 2,
 "metadata": {
  "language_info": {
   "name": "python",
   "codemirror_mode": {
    "name": "ipython",
    "version": 3
   },
   "version": "3.7.3-final"
  },
  "orig_nbformat": 2,
  "file_extension": ".py",
  "mimetype": "text/x-python",
  "name": "python",
  "npconvert_exporter": "python",
  "pygments_lexer": "ipython3",
  "version": 3,
  "kernelspec": {
   "name": "python3",
   "display_name": "Python 3"
  }
 },
 "cells": [
  {
   "cell_type": "markdown",
   "metadata": {},
   "source": [
    "# Load Train data and test data"
   ]
  },
  {
   "cell_type": "code",
   "execution_count": 5,
   "metadata": {},
   "outputs": [
    {
     "output_type": "execute_result",
     "data": {
      "text/plain": "tensor([[-1.3583, -1.3588, -1.3592,  ...,  0.2665,  0.2657, -1.1408],\n        [-1.3583, -1.3588, -1.5182,  ...,  0.2665, -1.1396, -1.3283],\n        [-1.3583, -1.5179, -1.6772,  ..., -1.1392, -1.3270, -0.8596],\n        ...,\n        [-0.8809, -0.7226, -0.5643,  ..., -0.5769, -0.2964, -0.3908],\n        [-0.7218, -0.5636, -0.7233,  ..., -0.2958, -0.3901, -0.1095],\n        [-0.5627, -0.7226, -0.8823,  ..., -0.3895, -0.1091,  0.0780]],\n       dtype=torch.float64)"
     },
     "metadata": {},
     "execution_count": 5
    }
   ],
   "source": [
    "from data.data_preprocess import DataLoadAndPreprocess\n",
    "\n",
    "train_path = \"./data/train2.csv\"\n",
    "test_path = \"./data/test.csv\"\n",
    "data = DataLoadAndPreprocess(train_path, test_path)\n",
    "data.train_x"
   ]
  },
  {
   "cell_type": "code",
   "execution_count": 6,
   "metadata": {},
   "outputs": [
    {
     "output_type": "execute_result",
     "data": {
      "text/plain": "tensor([[30.],\n        [41.],\n        [44.],\n        ...,\n        [17.],\n        [24.],\n        [29.]], dtype=torch.float64)"
     },
     "metadata": {},
     "execution_count": 6
    }
   ],
   "source": [
    "data.train_y"
   ]
  },
  {
   "cell_type": "code",
   "execution_count": null,
   "metadata": {},
   "outputs": [],
   "source": []
  }
 ]
}